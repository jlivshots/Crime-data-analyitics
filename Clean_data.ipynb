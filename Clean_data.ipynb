{
 "cells": [
  {
   "cell_type": "code",
   "execution_count": 1,
   "id": "f8c75e66",
   "metadata": {},
   "outputs": [],
   "source": [
    "import numpy as np\n",
    "import pandas as pd\n",
    "import matplotlib.pyplot as plt\n",
    "import time\n",
    "import datetime\n",
    "from dateutil import parser\n",
    "from datetime import datetime\n"
   ]
  },
  {
   "cell_type": "markdown",
   "id": "452c64fb-4bcd-451c-b123-9697096e219e",
   "metadata": {},
   "source": [
    "# CLEAN dataframe for training\n",
    "## Scale\n",
    "* Minutes for arrival\n",
    "* Time of day (minutes since midnight)\n",
    "* Day of week (0-6)\n",
    "* Day of month (0-30)\n",
    "* Day of the year (0-364)\n",
    "* Month (0-11)\n",
    "* Year\n",
    "* Lat\n",
    "* Long\n",
    "\n",
    "## Categorical\n",
    "* Crime category\n",
    "* Geo Code\n",
    "\n"
   ]
  },
  {
   "cell_type": "code",
   "execution_count": 2,
   "id": "1edc95d2",
   "metadata": {},
   "outputs": [],
   "source": [
    "incidents_df = pd.read_csv(\"data/Police_Incidents_Since_1988.csv\", sep = None, dtype={'INCIDENT': np.str_, 'DATE OCCURRED': np.str_, 'TIME OCCURED' : np.str_, 'YEAR OCCURRED': np.int_, 'MONTH OCCURRED': np.int_, 'DATE REPORTED': np.str_, 'TIME ARRIVED': np.str_, 'DATE ARRIVED': np.str_, 'GEO CODE': np.str_, 'HOUSE NUMBER BLOCK': np.str_, 'STREET': np.str_, 'CRIME CODE': np.float64, 'CRIME DESCRIPTION': np.str_, 'CRIME CATEGORY': np.str_, 'CRIME CATEGORY DESCRIPTION': np.str_, 'CSA DESCRIPTION': np.str_, 'PLACE CODE DESCRIPTION': np.str_, 'WEAPONS CODE 1': np.str_, 'WEAPON 1 DESCRIPTION': np.str_, 'WEAPONS CODE 2': np.str_, 'WEAPON 2 DESCRIPTION': np.str_, 'WEAPONS CODE 3': np.str_, 'WEAPON 3 DESCRIPTION': np.str_, 'BIAS CODE': np.float64, 'BIAS DESCRIPTION': np.str_, 'STATUS CODE': np.float64, 'STATUS DESCRIPTION': np.str_, 'COUNTER': int, 'MAPPING ADDRESS': np.str_}, engine = 'python')"
   ]
  },
  {
   "cell_type": "code",
   "execution_count": 3,
   "id": "5f8d3e4f",
   "metadata": {},
   "outputs": [],
   "source": [
    "#pd.set_option('display.max_columns', None)\n",
    "\n",
    "#incidents_df.head()"
   ]
  },
  {
   "cell_type": "code",
   "execution_count": 4,
   "id": "89e2c3a0-c01d-4093-990b-0db7a778cf7e",
   "metadata": {},
   "outputs": [
    {
     "name": "stdout",
     "output_type": "stream",
     "text": [
      "currently on row  0 out of  474609\n",
      "currently on row  50000 out of  474609\n",
      "currently on row  100000 out of  474609\n",
      "currently on row  150000 out of  474609\n",
      "currently on row  200000 out of  474609\n",
      "currently on row  250000 out of  474609\n",
      "currently on row  300000 out of  474609\n",
      "currently on row  350000 out of  474609\n",
      "currently on row  400000 out of  474609\n",
      "currently on row  450000 out of  474609\n",
      "done!\n"
     ]
    }
   ],
   "source": [
    "length = len(incidents_df)\n",
    "latitude = [np.nan] * length\n",
    "longitude =[np.nan] * length\n",
    "total_min =[np.nan] * length\n",
    "day_of_week =[np.nan] * length\n",
    "day_of_month =[np.nan] * length\n",
    "day_of_year =[np.nan] * length\n",
    "\n",
    "time =[np.nan] * length\n",
    "for index in range(length):\n",
    "    if index %50000==0:\n",
    "        print(\"currently on row \", index, \"out of \", length)\n",
    "\n",
    "    #lat/long\n",
    "    value = str(incidents_df['MAPPING ADDRESS'][index])\n",
    "    left_ind = value.find('(')\n",
    "    mid_ind = value.find(',', left_ind)\n",
    "    right_ind = value.find(')')\n",
    "    if left_ind!=-1 and mid_ind !=-1 and right_ind !=-1:\n",
    "        latitude[index] = float(value[left_ind+1: mid_ind])\n",
    "        longitude[index] = float(value[mid_ind+1:right_ind])\n",
    "\n",
    "    arrive = (str(incidents_df['DATE REPORTED'][index]) + ' ' + str(incidents_df['TIME REPORTED'][index]))\n",
    "    report = (str(incidents_df['DATE ARRIVED'][index]) + ' ' + str(incidents_df['TIME ARRIVED'][index]))\n",
    "    \n",
    "    #response time\n",
    "    try:\n",
    "        a = parser.parse(arrive)\n",
    "        b = parser.parse(report)\n",
    "        delt = b-a\n",
    "        elapsed = delt.total_seconds()//60\n",
    "        if elapsed>=0 and elapsed<300:  #ignoring 0 minutes because it was probably not a caller\n",
    "            time[index] = int(elapsed)\n",
    "    except:\n",
    "        pass\n",
    "    \n",
    "    #total minutes\n",
    "    try:\n",
    "        a = parser.parse(str(incidents_df['DATE REPORTED'][index]))\n",
    "        \n",
    "        # day_of_week\n",
    "        day_of_week[index] = int(a.weekday())\n",
    "        \n",
    "        # day_of_month\n",
    "        day_of_month[index] = int(a.day)\n",
    "        \n",
    "        # day_of_year\n",
    "        day_of_year[index] = int(a.timetuple().tm_yday)\n",
    "    except:\n",
    "        pass\n",
    "    \n",
    "    try:\n",
    "        a = parser.parse(incidents_df['TIME REPORTED'][index])\n",
    "        \n",
    "        # total_min\n",
    "        total_min[index] = int(a.hour*60+a.minute)\n",
    "    except:\n",
    "        pass\n",
    "    \n",
    "print('done!')\n",
    "\n",
    "incidents_df['LATITUDE'] = latitude\n",
    "incidents_df['LONGITUDE'] = longitude\n",
    "incidents_df['RESPONSE TIME'] = time\n",
    "incidents_df['MINS OF DAY'] = total_min\n",
    "incidents_df['DAY OF WEEK'] = day_of_week\n",
    "incidents_df['DAY OF MONTH'] = day_of_month\n",
    "incidents_df['DAY OF YEAR'] = day_of_year\n",
    "pd.set_option('display.max_rows', None)\n",
    "# incidents_df.head()"
   ]
  },
  {
   "cell_type": "markdown",
   "id": "d382cd69-81b3-48a5-873e-481a30f6a4af",
   "metadata": {},
   "source": [
    "## Two dataframes are created:\n",
    "* cleaned_data.csv has the cleaned data\n",
    "* cleaned_data_no_zeros.csv has cleaned data where all rows have response time > 0"
   ]
  },
  {
   "cell_type": "code",
   "execution_count": 5,
   "id": "05686c84-02b5-4174-9cf3-83add4c3d495",
   "metadata": {},
   "outputs": [
    {
     "data": {
      "text/plain": [
       "204312"
      ]
     },
     "execution_count": 5,
     "metadata": {},
     "output_type": "execute_result"
    }
   ],
   "source": [
    "streamlined_df = incidents_df[['CRIME CATEGORY DESCRIPTION','RESPONSE TIME','MINS OF DAY', 'DAY OF WEEK', 'DAY OF MONTH', 'DAY OF YEAR', 'MONTH OCCURRED', 'YEAR OCCURRED','GEO CODE', 'LATITUDE', 'LONGITUDE']]\n",
    "streamlined_df = streamlined_df[streamlined_df['RESPONSE TIME'].notna()]\n",
    "streamlined_df.to_csv('data/cleaned_data.csv')\n",
    "\n",
    "streamlined_no_zeros_df = streamlined_df[streamlined_df['RESPONSE TIME']>0]\n",
    "streamlined_no_zeros_df.to_csv('data/cleaned_data_no_zeros.csv')\n",
    "# streamlined_df.head(10)"
   ]
  }
 ],
 "metadata": {
  "kernelspec": {
   "display_name": "Python 3",
   "language": "python",
   "name": "python3"
  },
  "language_info": {
   "codemirror_mode": {
    "name": "ipython",
    "version": 3
   },
   "file_extension": ".py",
   "mimetype": "text/x-python",
   "name": "python",
   "nbconvert_exporter": "python",
   "pygments_lexer": "ipython3",
   "version": "3.9.6"
  }
 },
 "nbformat": 4,
 "nbformat_minor": 5
}
