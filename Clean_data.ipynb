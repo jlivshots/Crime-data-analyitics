{
 "cells": [
  {
   "cell_type": "code",
   "execution_count": 103,
   "id": "f8c75e66",
   "metadata": {},
   "outputs": [],
   "source": [
    "import numpy as np\n",
    "import pandas as pd\n",
    "import matplotlib.pyplot as plt\n",
    "import time\n",
    "import datetime\n",
    "from dateutil import parser\n",
    "from datetime import datetime\n"
   ]
  },
  {
   "cell_type": "markdown",
   "id": "452c64fb-4bcd-451c-b123-9697096e219e",
   "metadata": {},
   "source": [
    "# CLEAN dataframe for training\n",
    "## Scale\n",
    "* Minutes for arrival\n",
    "* Time of day (minutes since midnight)\n",
    "* Day of week (0-6)\n",
    "* Day of month (0-30)\n",
    "* Day of the year (0-364)\n",
    "* Month (0-11)\n",
    "* Year\n",
    "* Lat\n",
    "* Long\n",
    "\n",
    "## Categorical\n",
    "* Crime category\n",
    "* Geo Code\n",
    "\n"
   ]
  },
  {
   "cell_type": "code",
   "execution_count": 104,
   "id": "1edc95d2",
   "metadata": {},
   "outputs": [],
   "source": [
    "incidents_df = pd.read_csv(\"data/Police_Incidents_Since_1988.csv\", sep = None, dtype={'INCIDENT': np.str_, 'DATE OCCURRED': np.str_, 'TIME OCCURED' : np.str_, 'YEAR OCCURRED': np.int_, 'MONTH OCCURRED': np.int_, 'DATE REPORTED': np.str_, 'TIME ARRIVED': np.str_, 'DATE ARRIVED': np.str_, 'GEO CODE': np.str_, 'HOUSE NUMBER BLOCK': np.str_, 'STREET': np.str_, 'CRIME CODE': np.float64, 'CRIME DESCRIPTION': np.str_, 'CRIME CATEGORY': np.str_, 'CRIME CATEGORY DESCRIPTION': np.str_, 'CSA DESCRIPTION': np.str_, 'PLACE CODE DESCRIPTION': np.str_, 'WEAPONS CODE 1': np.str_, 'WEAPON 1 DESCRIPTION': np.str_, 'WEAPONS CODE 2': np.str_, 'WEAPON 2 DESCRIPTION': np.str_, 'WEAPONS CODE 3': np.str_, 'WEAPON 3 DESCRIPTION': np.str_, 'BIAS CODE': np.float64, 'BIAS DESCRIPTION': np.str_, 'STATUS CODE': np.float64, 'STATUS DESCRIPTION': np.str_, 'COUNTER': int, 'MAPPING ADDRESS': np.str_}, engine = 'python')"
   ]
  },
  {
   "cell_type": "code",
   "execution_count": 105,
   "id": "5f8d3e4f",
   "metadata": {},
   "outputs": [],
   "source": [
    "#pd.set_option('display.max_columns', None)\n",
    "\n",
    "#incidents_df.head()"
   ]
  },
  {
   "cell_type": "code",
   "execution_count": 106,
   "id": "89e2c3a0-c01d-4093-990b-0db7a778cf7e",
   "metadata": {},
   "outputs": [
    {
     "name": "stdout",
     "output_type": "stream",
     "text": [
      "currently on row  0 out of  474609\n",
      "currently on row  50000 out of  474609\n",
      "currently on row  100000 out of  474609\n",
      "currently on row  150000 out of  474609\n",
      "currently on row  200000 out of  474609\n",
      "currently on row  250000 out of  474609\n",
      "currently on row  300000 out of  474609\n",
      "currently on row  350000 out of  474609\n",
      "currently on row  400000 out of  474609\n",
      "currently on row  450000 out of  474609\n",
      "done!\n"
     ]
    }
   ],
   "source": [
    "length = len(incidents_df)\n",
    "latitude = [np.nan] * length\n",
    "longitude =[np.nan] * length\n",
    "total_min =[np.nan] * length\n",
    "day_of_week =[np.nan] * length\n",
    "day_of_month =[np.nan] * length\n",
    "day_of_year =[np.nan] * length\n",
    "\n",
    "time =[np.nan] * length\n",
    "for index in range(length):\n",
    "    if index %50000==0:\n",
    "        print(\"currently on row \", index, \"out of \", length)\n",
    "\n",
    "    #lat/long\n",
    "    value = str(incidents_df['MAPPING ADDRESS'][index])\n",
    "    left_ind = value.find('(')\n",
    "    mid_ind = value.find(',', left_ind)\n",
    "    right_ind = value.find(')')\n",
    "    if left_ind!=-1 and mid_ind !=-1 and right_ind !=-1:\n",
    "        latitude[index] = float(value[left_ind+1: mid_ind])\n",
    "        longitude[index] = float(value[mid_ind+1:right_ind])\n",
    "\n",
    "    arrive = (str(incidents_df['DATE REPORTED'][index]) + ' ' + str(incidents_df['TIME REPORTED'][index]))\n",
    "    report = (str(incidents_df['DATE ARRIVED'][index]) + ' ' + str(incidents_df['TIME ARRIVED'][index]))\n",
    "    \n",
    "    #response time\n",
    "    try:\n",
    "        a = parser.parse(arrive)\n",
    "        b = parser.parse(report)\n",
    "        delt = b-a\n",
    "        elapsed = delt.total_seconds()//60\n",
    "        if elapsed>=0 and elapsed<300:  #ignoring 0 minutes because it was probably not a caller\n",
    "            time[index] = int(elapsed)\n",
    "    except:\n",
    "        pass\n",
    "    \n",
    "    #total minutes\n",
    "    try:\n",
    "        a = parser.parse(str(incidents_df['DATE REPORTED'][index]))\n",
    "        \n",
    "        # day_of_week\n",
    "        day_of_week[index] = int(a.weekday())\n",
    "        \n",
    "        # day_of_month\n",
    "        day_of_month[index] = int(a.day)\n",
    "        \n",
    "        # day_of_year\n",
    "        day_of_year[index] = int(a.timetuple().tm_yday)\n",
    "    except:\n",
    "        pass\n",
    "    \n",
    "    try:\n",
    "        a = parser.parse(incidents_df['TIME REPORTED'][index])\n",
    "        \n",
    "        # total_min\n",
    "        total_min[index] = int(a.hour*60+a.minute)\n",
    "    except:\n",
    "        pass\n",
    "    \n",
    "print('done!')\n",
    "\n",
    "incidents_df['LATITUDE'] = latitude\n",
    "incidents_df['LONGITUDE'] = longitude\n",
    "incidents_df['RESPONSE TIME'] = time\n",
    "incidents_df['MINS OF DAY'] = total_min\n",
    "incidents_df['DAY OF WEEK'] = day_of_week\n",
    "incidents_df['DAY OF MONTH'] = day_of_month\n",
    "incidents_df['DAY OF YEAR'] = day_of_year\n",
    "pd.set_option('display.max_rows', None)\n",
    "# incidents_df.head()"
   ]
  },
  {
   "cell_type": "markdown",
   "id": "d382cd69-81b3-48a5-873e-481a30f6a4af",
   "metadata": {},
   "source": [
    "## Two dataframes are created:\n",
    "* cleaned_data.csv has the cleaned data\n",
    "* cleaned_data_no_zeros.csv has cleaned data where all rows have response time > 0"
   ]
  },
  {
   "cell_type": "code",
   "execution_count": 111,
   "id": "05686c84-02b5-4174-9cf3-83add4c3d495",
   "metadata": {},
   "outputs": [
    {
     "data": {
      "text/plain": [
       "204312"
      ]
     },
     "execution_count": 111,
     "metadata": {},
     "output_type": "execute_result"
    }
   ],
   "source": [
    "streamlined_df = incidents_df[['CRIME CATEGORY DESCRIPTION','RESPONSE TIME','MINS OF DAY', 'DAY OF WEEK', 'DAY OF MONTH', 'DAY OF YEAR', 'MONTH OCCURRED', 'YEAR OCCURRED','GEO CODE', 'LATITUDE', 'LONGITUDE']]\n",
    "streamlined_df = streamlined_df[streamlined_df['RESPONSE TIME'].notna()]\n",
    "streamlined_df.to_csv('data/cleaned_data.csv')\n",
    "\n",
    "streamlined_no_zeros_df = streamlined_df[streamlined_df['RESPONSE TIME']>0]\n",
    "streamlined_no_zeros_df.to_csv('data/cleaned_data_no_zeros.csv')\n",
    "len(streamlined_no_zeros_df)\n",
    "# streamlined_df.head(10)"
   ]
  },
  {
   "cell_type": "code",
   "execution_count": 119,
   "id": "c5e13e9d-712e-4b0b-a77a-5c265d795ed4",
   "metadata": {},
   "outputs": [
    {
     "ename": "AttributeError",
     "evalue": "'DataFrame' object has no attribute 'as_matrix'",
     "output_type": "error",
     "traceback": [
      "\u001b[1;31m---------------------------------------------------------------------------\u001b[0m",
      "\u001b[1;31mAttributeError\u001b[0m                            Traceback (most recent call last)",
      "\u001b[1;32m<ipython-input-119-19b152153006>\u001b[0m in \u001b[0;36m<module>\u001b[1;34m\u001b[0m\n\u001b[0;32m      4\u001b[0m \u001b[0mscore_onehot_drop\u001b[0m \u001b[1;33m=\u001b[0m \u001b[0mstreamlined_no_zeros_df\u001b[0m\u001b[1;33m.\u001b[0m\u001b[0mdrop\u001b[0m\u001b[1;33m(\u001b[0m\u001b[0monehot_columns\u001b[0m\u001b[1;33m,\u001b[0m \u001b[0maxis\u001b[0m \u001b[1;33m=\u001b[0m \u001b[1;36m1\u001b[0m\u001b[1;33m)\u001b[0m\u001b[1;33m\u001b[0m\u001b[1;33m\u001b[0m\u001b[0m\n\u001b[0;32m      5\u001b[0m \u001b[0mscore_onehot\u001b[0m \u001b[1;33m=\u001b[0m \u001b[0mpd\u001b[0m\u001b[1;33m.\u001b[0m\u001b[0mconcat\u001b[0m\u001b[1;33m(\u001b[0m\u001b[1;33m[\u001b[0m\u001b[0mscore_onehot_drop\u001b[0m\u001b[1;33m,\u001b[0m \u001b[0monehot_df\u001b[0m\u001b[1;33m]\u001b[0m\u001b[1;33m,\u001b[0m \u001b[0maxis\u001b[0m \u001b[1;33m=\u001b[0m \u001b[1;36m1\u001b[0m\u001b[1;33m)\u001b[0m\u001b[1;33m\u001b[0m\u001b[1;33m\u001b[0m\u001b[0m\n\u001b[1;32m----> 6\u001b[1;33m \u001b[0mscore_onehot\u001b[0m\u001b[1;33m.\u001b[0m\u001b[0mas_matrix\u001b[0m\u001b[1;33m(\u001b[0m\u001b[0mcolumns\u001b[0m\u001b[1;33m=\u001b[0m\u001b[0mdf\u001b[0m\u001b[1;33m.\u001b[0m\u001b[0mcolumns\u001b[0m\u001b[1;33m[\u001b[0m\u001b[1;36m1\u001b[0m\u001b[1;33m:\u001b[0m\u001b[1;33m]\u001b[0m\u001b[1;33m)\u001b[0m\u001b[1;33m.\u001b[0m\u001b[0mhead\u001b[0m\u001b[1;33m(\u001b[0m\u001b[1;36m10\u001b[0m\u001b[1;33m)\u001b[0m\u001b[1;33m\u001b[0m\u001b[1;33m\u001b[0m\u001b[0m\n\u001b[0m",
      "\u001b[1;32m~\\anaconda3\\lib\\site-packages\\pandas\\core\\generic.py\u001b[0m in \u001b[0;36m__getattr__\u001b[1;34m(self, name)\u001b[0m\n\u001b[0;32m   5463\u001b[0m             \u001b[1;32mif\u001b[0m \u001b[0mself\u001b[0m\u001b[1;33m.\u001b[0m\u001b[0m_info_axis\u001b[0m\u001b[1;33m.\u001b[0m\u001b[0m_can_hold_identifiers_and_holds_name\u001b[0m\u001b[1;33m(\u001b[0m\u001b[0mname\u001b[0m\u001b[1;33m)\u001b[0m\u001b[1;33m:\u001b[0m\u001b[1;33m\u001b[0m\u001b[1;33m\u001b[0m\u001b[0m\n\u001b[0;32m   5464\u001b[0m                 \u001b[1;32mreturn\u001b[0m \u001b[0mself\u001b[0m\u001b[1;33m[\u001b[0m\u001b[0mname\u001b[0m\u001b[1;33m]\u001b[0m\u001b[1;33m\u001b[0m\u001b[1;33m\u001b[0m\u001b[0m\n\u001b[1;32m-> 5465\u001b[1;33m             \u001b[1;32mreturn\u001b[0m \u001b[0mobject\u001b[0m\u001b[1;33m.\u001b[0m\u001b[0m__getattribute__\u001b[0m\u001b[1;33m(\u001b[0m\u001b[0mself\u001b[0m\u001b[1;33m,\u001b[0m \u001b[0mname\u001b[0m\u001b[1;33m)\u001b[0m\u001b[1;33m\u001b[0m\u001b[1;33m\u001b[0m\u001b[0m\n\u001b[0m\u001b[0;32m   5466\u001b[0m \u001b[1;33m\u001b[0m\u001b[0m\n\u001b[0;32m   5467\u001b[0m     \u001b[1;32mdef\u001b[0m \u001b[0m__setattr__\u001b[0m\u001b[1;33m(\u001b[0m\u001b[0mself\u001b[0m\u001b[1;33m,\u001b[0m \u001b[0mname\u001b[0m\u001b[1;33m:\u001b[0m \u001b[0mstr\u001b[0m\u001b[1;33m,\u001b[0m \u001b[0mvalue\u001b[0m\u001b[1;33m)\u001b[0m \u001b[1;33m->\u001b[0m \u001b[1;32mNone\u001b[0m\u001b[1;33m:\u001b[0m\u001b[1;33m\u001b[0m\u001b[1;33m\u001b[0m\u001b[0m\n",
      "\u001b[1;31mAttributeError\u001b[0m: 'DataFrame' object has no attribute 'as_matrix'"
     ]
    }
   ],
   "source": [
    "\n"
   ]
  },
  {
   "cell_type": "code",
   "execution_count": 88,
   "id": "c055e09d-a815-4cc2-b067-150cc9dd18aa",
   "metadata": {},
   "outputs": [],
   "source": [
    "count = [1] * length\n",
    "incidents_df['COUNT'] = count\n",
    "simple_df = incidents_df[['DATE OCCURRED','TIME REPORTED', 'RESPONSE TIME','YEAR OCCURRED','MONTH OCCURRED', 'GEO CODE', 'HOUSE NUMBER BLOCK', 'CRIME CODE', 'PLACE CODE','LATITUDE','LONGITUDE', 'COUNT', 'CRIME CATEGORY', 'CRIME CATEGORY DESCRIPTION']]\n",
    "# simple_df = simple_df[simple_df['LONGITUDE'].notna()]"
   ]
  },
  {
   "cell_type": "code",
   "execution_count": 91,
   "id": "e6e85cb9-43c3-4c8a-95bd-8eb710d37327",
   "metadata": {},
   "outputs": [
    {
     "data": {
      "text/plain": [
       "<AxesSubplot:>"
      ]
     },
     "execution_count": 91,
     "metadata": {},
     "output_type": "execute_result"
    },
    {
     "data": {
      "image/png": "[encoded data removed]",
      "text/plain": [
       "<Figure size 1080x1080 with 1 Axes>"
      ]
     },
     "metadata": {
      "needs_background": "light"
     },
     "output_type": "display_data"
    }
   ],
   "source": [
    "#remove rows with invalid time column value\n",
    "#this method could take a while!\n",
    "\n",
    "# simple_df.drop(err)\n",
    "s = simple_df.pivot_table(values ='RESPONSE TIME', columns=['CRIME CATEGORY DESCRIPTION'], aggfunc=np.mean).sort_values(by='RESPONSE TIME', axis=1)\n",
    "#s.head()\n",
    "s.plot.bar(figsize=(15,15))"
   ]
  },
  {
   "cell_type": "code",
   "execution_count": 92,
   "id": "54d7664b-b944-4ec2-8757-6dfd9f05e79d",
   "metadata": {},
   "outputs": [
    {
     "data": {
      "text/plain": [
       "0    0.0\n",
       "dtype: float64"
      ]
     },
     "execution_count": 92,
     "metadata": {},
     "output_type": "execute_result"
    }
   ],
   "source": [
    "simple_df.head(10)\n",
    "t = simple_df[['RESPONSE TIME']]\n",
    "t = t[t['RESPONSE TIME'].notna()]\n",
    "t[\"RESPONSE TIME\"].mode()\n"
   ]
  },
  {
   "cell_type": "code",
   "execution_count": 94,
   "id": "5ac233d1-74d0-4967-9bbf-a4654016cb9a",
   "metadata": {},
   "outputs": [
    {
     "data": {
      "image/png": "[encoded data removed]",
      "text/plain": [
       "<Figure size 432x288 with 1 Axes>"
      ]
     },
     "metadata": {
      "needs_background": "light"
     },
     "output_type": "display_data"
    }
   ],
   "source": [
    "hist = t.hist(bins=120)"
   ]
  },
  {
   "cell_type": "code",
   "execution_count": 95,
   "id": "d3a0b2af-9cfe-463e-94c4-7ebb2a61ab03",
   "metadata": {},
   "outputs": [
    {
     "data": {
      "image/png": "[encoded data removed]",
      "text/plain": [
       "<Figure size 432x288 with 2 Axes>"
      ]
     },
     "metadata": {
      "needs_background": "light"
     },
     "output_type": "display_data"
    }
   ],
   "source": [
    "ax = simple_df.plot.hexbin(x='LATITUDE',\n",
    "                    y='LONGITUDE',\n",
    "                    C='COUNT',\n",
    "                    reduce_C_function=np.sum,\n",
    "                    gridsize=8,\n",
    "                    cmap=\"viridis\")"
   ]
  },
  {
   "cell_type": "code",
   "execution_count": 96,
   "id": "6fcb8e79-07a6-407a-bb81-815dff95d533",
   "metadata": {},
   "outputs": [
    {
     "data": {
      "text/plain": [
       "Traffic Offenses                  149559\n",
       "Accident                           50031\n",
       "Theft                              34794\n",
       "Battery                            25007\n",
       "Criminal Damage                    20345\n",
       "Domestic Dispute                   20212\n",
       "Assist Other Agency/Business       17304\n",
       "Disorderly Conduct                 13670\n",
       "Warrants & Summons                 12390\n",
       "Burglary                           12090\n",
       "Status Offenses                     9550\n",
       "Lost & Found                        9195\n",
       "Interfering w/Public Officers       6359\n",
       "Liquor Offenses                     5957\n",
       "Burglary from Motor Vehicle         5876\n",
       "Deception & Fraud                   5796\n",
       "Crisis Intervention                 5454\n",
       "Driving Under the Influence         5026\n",
       "Animal Offenses                     4956\n",
       "Trespassing                         4845\n",
       "Cannabis Offenses                   4521\n",
       "Vehicles for Hire - Admin           3567\n",
       "Assault                             3391\n",
       "Offenses Involving Children         3125\n",
       "Controlled Substance Offenses       3071\n",
       "Drug Paraphernalia Act              2830\n",
       "Suicide, Attempts, and Threats      2798\n",
       "Assist Sick/Injured/Ex Del          2768\n",
       "Offender Tracking                   2563\n",
       "Motor Vehicle Theft                 2036\n",
       "Weapons Offenses                    2031\n",
       "Robbery                             1908\n",
       "Investigate                         1863\n",
       "Noise & Vibrations Violations       1854\n",
       "Parking Enforcement & Meters        1783\n",
       "Violation Ord Protect/No Cont       1645\n",
       "Prob/Parole/Bail Violations         1512\n",
       "Sex Offenses                        1235\n",
       "Kidnapping                          1194\n",
       "Pedestrian Violations               1105\n",
       "Criminal Sexual Assault             1008\n",
       "Internal Mgt (non-Crimes)            909\n",
       "Domestic - Other Offenses            825\n",
       "Bicycle Offenses                     710\n",
       "Protective Custody - Juvenile        697\n",
       "Traffic Non-Offenses                 590\n",
       "Intimidation                         558\n",
       "Missing Person                       514\n",
       "Waste Management Offenses            503\n",
       "Animal Investigation                 441\n",
       "Other Offenses                       435\n",
       "Arson                                333\n",
       "Violation of Crim Reg Laws           245\n",
       "Homicide                             161\n",
       "Hypo Syringes & Needles Act          157\n",
       "Burglary Tools                        99\n",
       "None                                  53\n",
       "Parking Enforcement                   48\n",
       "Public Complaints                     45\n",
       "Methamphetamine Offenses              42\n",
       "Domestic Violence Protocol            31\n",
       "Peddle/Solicitor Violations           31\n",
       "Other Drug Offenses                   28\n",
       "Illegal Alien Offenses                23\n",
       "Park District Violations              22\n",
       "Vehicles for Hire Violations          21\n",
       "Fire Prevention Violations            19\n",
       "Gambling Offenses                     17\n",
       "Money Laundering                       3\n",
       "Gang Activity                          2\n",
       "Human Trafficking                      2\n",
       "Elder Abuse                            2\n",
       "Terrorism Offenses                     1\n",
       "Alarm                                  1\n",
       "Military Offenses                      1\n",
       "Food Serv & Del Violations             1\n",
       "Library Violations                     1\n",
       "Name: CRIME CATEGORY DESCRIPTION, dtype: int64"
      ]
     },
     "execution_count": 96,
     "metadata": {},
     "output_type": "execute_result"
    }
   ],
   "source": [
    "incidents_df['CRIME CATEGORY DESCRIPTION'].value_counts()"
   ]
  },
  {
   "cell_type": "code",
   "execution_count": 97,
   "id": "35df2816-81af-4987-8f45-f31d0708a21c",
   "metadata": {},
   "outputs": [
    {
     "data": {
      "text/plain": [
       "88.0    332341\n",
       "0.0     128550\n",
       "99.0     13379\n",
       "11.0       123\n",
       "12.0        91\n",
       "41.0        24\n",
       "14.0        20\n",
       "42.0        10\n",
       "54.0         8\n",
       "24.0         7\n",
       "43.0         5\n",
       "31.0         5\n",
       "32.0         5\n",
       "3.0          5\n",
       "33.0         5\n",
       "55.0         4\n",
       "15.0         4\n",
       "44.0         3\n",
       "26.0         2\n",
       "51.0         2\n",
       "53.0         2\n",
       "8.0          1\n",
       "90.0         1\n",
       "25.0         1\n",
       "21.0         1\n",
       "9.0          1\n",
       "52.0         1\n",
       "Name: BIAS CODE, dtype: int64"
      ]
     },
     "execution_count": 97,
     "metadata": {},
     "output_type": "execute_result"
    }
   ],
   "source": [
    "incidents_df['BIAS CODE'].value_counts()"
   ]
  },
  {
   "cell_type": "code",
   "execution_count": 98,
   "id": "a0fe43de-f9f2-4633-8abc-3b5c09527783",
   "metadata": {},
   "outputs": [
    {
     "data": {
      "text/plain": [
       "NONE                             332341\n",
       "UNKNOWN                           13379\n",
       "ANTI-WHITE                          123\n",
       "ANTI-BLACK                           91\n",
       "ANTI-MALE HOMOSEXUAL(GAY)            24\n",
       "ANTI-PACIFIC ISLANDER                20\n",
       "ANTI-FEMALE HOMOSEXUAL(LESB.)        10\n",
       "ANTI-GENDER FEMALE OLD                8\n",
       "ANTI-ISLAMIC                          7\n",
       "ANTI-HISPANIC                         5\n",
       "ANTI-ARAB                             5\n",
       "ANTI-HOMOSEXUAL(GAY/LESBIAN)          5\n",
       "ANTI-OTHER ETHNICITY/ORIGIN           5\n",
       "ANTI-MULTI-RACIAL GROUP               4\n",
       "ANTI-HETEROSEXUAL                     3\n",
       "ANTI-MULTI-RELIGIOUS                  2\n",
       "ANTI -GENDER MALE OLD                 2\n",
       "ANTI-PHYSICALLY DISABLED              2\n",
       "ANTI-OTHER RELIGION                   1\n",
       "ANTI-MENTALLY DISABLED                1\n",
       "ANTI-JEWISH                           1\n",
       "Name: BIAS DESCRIPTION, dtype: int64"
      ]
     },
     "execution_count": 98,
     "metadata": {},
     "output_type": "execute_result"
    }
   ],
   "source": [
    "incidents_df['BIAS DESCRIPTION'].value_counts()"
   ]
  },
  {
   "cell_type": "code",
   "execution_count": 99,
   "id": "cc007ac1-4f6d-42c1-9b52-19b19250c17f",
   "metadata": {},
   "outputs": [
    {
     "data": {
      "text/html": [
       "<div>\n",
       "<style scoped>\n",
       "    .dataframe tbody tr th:only-of-type {\n",
       "        vertical-align: middle;\n",
       "    }\n",
       "\n",
       "    .dataframe tbody tr th {\n",
       "        vertical-align: top;\n",
       "    }\n",
       "\n",
       "    .dataframe thead th {\n",
       "        text-align: right;\n",
       "    }\n",
       "</style>\n",
       "<table border=\"1\" class=\"dataframe\">\n",
       "  <thead>\n",
       "    <tr style=\"text-align: right;\">\n",
       "      <th></th>\n",
       "      <th>COUNT</th>\n",
       "    </tr>\n",
       "    <tr>\n",
       "      <th>BIAS DESCRIPTION</th>\n",
       "      <th></th>\n",
       "    </tr>\n",
       "  </thead>\n",
       "  <tbody>\n",
       "    <tr>\n",
       "      <th>ANTI -GENDER MALE OLD</th>\n",
       "      <td>2</td>\n",
       "    </tr>\n",
       "    <tr>\n",
       "      <th>ANTI-ARAB</th>\n",
       "      <td>5</td>\n",
       "    </tr>\n",
       "    <tr>\n",
       "      <th>ANTI-BLACK</th>\n",
       "      <td>91</td>\n",
       "    </tr>\n",
       "    <tr>\n",
       "      <th>ANTI-FEMALE HOMOSEXUAL(LESB.)</th>\n",
       "      <td>10</td>\n",
       "    </tr>\n",
       "    <tr>\n",
       "      <th>ANTI-GENDER FEMALE OLD</th>\n",
       "      <td>8</td>\n",
       "    </tr>\n",
       "    <tr>\n",
       "      <th>ANTI-HETEROSEXUAL</th>\n",
       "      <td>3</td>\n",
       "    </tr>\n",
       "    <tr>\n",
       "      <th>ANTI-HISPANIC</th>\n",
       "      <td>5</td>\n",
       "    </tr>\n",
       "    <tr>\n",
       "      <th>ANTI-HOMOSEXUAL(GAY/LESBIAN)</th>\n",
       "      <td>5</td>\n",
       "    </tr>\n",
       "    <tr>\n",
       "      <th>ANTI-ISLAMIC</th>\n",
       "      <td>7</td>\n",
       "    </tr>\n",
       "    <tr>\n",
       "      <th>ANTI-JEWISH</th>\n",
       "      <td>1</td>\n",
       "    </tr>\n",
       "    <tr>\n",
       "      <th>ANTI-MALE HOMOSEXUAL(GAY)</th>\n",
       "      <td>24</td>\n",
       "    </tr>\n",
       "    <tr>\n",
       "      <th>ANTI-MENTALLY DISABLED</th>\n",
       "      <td>1</td>\n",
       "    </tr>\n",
       "    <tr>\n",
       "      <th>ANTI-MULTI-RACIAL GROUP</th>\n",
       "      <td>4</td>\n",
       "    </tr>\n",
       "    <tr>\n",
       "      <th>ANTI-MULTI-RELIGIOUS</th>\n",
       "      <td>2</td>\n",
       "    </tr>\n",
       "    <tr>\n",
       "      <th>ANTI-OTHER ETHNICITY/ORIGIN</th>\n",
       "      <td>5</td>\n",
       "    </tr>\n",
       "    <tr>\n",
       "      <th>ANTI-OTHER RELIGION</th>\n",
       "      <td>1</td>\n",
       "    </tr>\n",
       "    <tr>\n",
       "      <th>ANTI-PACIFIC ISLANDER</th>\n",
       "      <td>20</td>\n",
       "    </tr>\n",
       "    <tr>\n",
       "      <th>ANTI-PHYSICALLY DISABLED</th>\n",
       "      <td>2</td>\n",
       "    </tr>\n",
       "    <tr>\n",
       "      <th>ANTI-WHITE</th>\n",
       "      <td>123</td>\n",
       "    </tr>\n",
       "    <tr>\n",
       "      <th>NONE</th>\n",
       "      <td>332341</td>\n",
       "    </tr>\n",
       "    <tr>\n",
       "      <th>UNKNOWN</th>\n",
       "      <td>13379</td>\n",
       "    </tr>\n",
       "  </tbody>\n",
       "</table>\n",
       "</div>"
      ],
      "text/plain": [
       "                                COUNT\n",
       "BIAS DESCRIPTION                     \n",
       "ANTI -GENDER MALE OLD               2\n",
       "ANTI-ARAB                           5\n",
       "ANTI-BLACK                         91\n",
       "ANTI-FEMALE HOMOSEXUAL(LESB.)      10\n",
       "ANTI-GENDER FEMALE OLD              8\n",
       "ANTI-HETEROSEXUAL                   3\n",
       "ANTI-HISPANIC                       5\n",
       "ANTI-HOMOSEXUAL(GAY/LESBIAN)        5\n",
       "ANTI-ISLAMIC                        7\n",
       "ANTI-JEWISH                         1\n",
       "ANTI-MALE HOMOSEXUAL(GAY)          24\n",
       "ANTI-MENTALLY DISABLED              1\n",
       "ANTI-MULTI-RACIAL GROUP             4\n",
       "ANTI-MULTI-RELIGIOUS                2\n",
       "ANTI-OTHER ETHNICITY/ORIGIN         5\n",
       "ANTI-OTHER RELIGION                 1\n",
       "ANTI-PACIFIC ISLANDER              20\n",
       "ANTI-PHYSICALLY DISABLED            2\n",
       "ANTI-WHITE                        123\n",
       "NONE                           332341\n",
       "UNKNOWN                         13379"
      ]
     },
     "execution_count": 99,
     "metadata": {},
     "output_type": "execute_result"
    }
   ],
   "source": [
    "bias_df = incidents_df[['BIAS DESCRIPTION','COUNT', 'CRIME CATEGORY', 'CRIME CATEGORY DESCRIPTION']]\n",
    "bias_df.groupby(['BIAS DESCRIPTION']).sum()\n"
   ]
  },
  {
   "cell_type": "code",
   "execution_count": null,
   "id": "e649d7e0-ee80-4799-beb5-6c71a1fd1312",
   "metadata": {},
   "outputs": [],
   "source": []
  },
  {
   "cell_type": "code",
   "execution_count": null,
   "id": "da0f03f8-cc7c-4ec5-8357-5581f3c892aa",
   "metadata": {},
   "outputs": [],
   "source": []
  }
 ],
 "metadata": {
  "kernelspec": {
   "display_name": "Python 3",
   "language": "python",
   "name": "python3"
  },
  "language_info": {
   "codemirror_mode": {
    "name": "ipython",
    "version": 3
   },
   "file_extension": ".py",
   "mimetype": "text/x-python",
   "name": "python",
   "nbconvert_exporter": "python",
   "pygments_lexer": "ipython3",
   "version": "3.8.8"
  }
 },
 "nbformat": 4,
 "nbformat_minor": 5
}
