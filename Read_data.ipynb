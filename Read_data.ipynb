{
 "cells": [
  {
   "cell_type": "code",
   "execution_count": 4,
   "id": "fb36809a-2f2e-4527-936d-5e24ef46f676",
   "metadata": {},
   "outputs": [],
   "source": [
    "import numpy as np\n",
    "import pandas as pd\n",
    "import matplotlib.pyplot as plt\n",
    "import time\n",
    "import datetime\n",
    "from dateutil import parser\n",
    "from datetime import datetime"
   ]
  },
  {
   "cell_type": "markdown",
   "id": "f074ba5c-ae2d-4e93-80a0-8064b2e327be",
   "metadata": {},
   "source": [
    "## Parsing Discrete Category Data to Create OneHot Encodings\n",
    "### Parse Crime Data & GeoCodes:\n",
    "* Create Columns for Encodings\n",
    "* Find Unique Values\n",
    "* Encode Using np.eye()\n",
    "* Map Unique Values to Corresponding Encodings\n",
    "* Iterate through DataFrame to Add Encoded Values to Corresponding Spots\n",
    "* Add Columns to Data Frames"
   ]
  },
  {
   "cell_type": "code",
   "execution_count": 11,
   "id": "31016834-8908-4557-88f1-c2d67eb7f35e",
   "metadata": {},
   "outputs": [],
   "source": [
    "def read_data():\n",
    "    incidents = pd.read_csv('data/cleaned_data_no_zeros.csv', sep = None, dtype={'YEAR OCCURRED': np.int_, 'MONTH OCCURRED': np.int_,'GEO CODE': np.str_, 'CRIME CATEGORY DESCRIPTION': np.str_,}, engine = 'python')\n",
    "    \n",
    "    length = len(incidents)\n",
    "    \n",
    "    # Create columns for onehot_encodings\n",
    "    onehot_crime_array =  [[]] * length\n",
    "    onehot_geocode_array =  [[]] * length\n",
    "    \n",
    "    # Find Unique Values\n",
    "    unique_crime_categories = incidents['CRIME CATEGORY DESCRIPTION'].unique()\n",
    "    unique_geocode = incidents['GEO CODE'].unique()\n",
    "\n",
    "    # Encode Using np.eye()\n",
    "    unique_crimes_encoding = np.eye(len(unique_crime_categories))\n",
    "    unique_geocode_encoding = np.eye(len(unique_geocode))\n",
    "\n",
    "\n",
    "    # Map Unique Values to Corresponding Encodings \n",
    "\n",
    "    crime_dict = {}\n",
    "    for i in range(len(unique_crime_categories)):\n",
    "        crime_dict[unique_crime_categories[i]] = unique_crimes_encoding[i]\n",
    "\n",
    "    geocode_dict = {}\n",
    "    for i in range(len(unique_geocode)):\n",
    "        geocode_dict[unique_geocode[i]] = unique_geocode_encoding[i]\n",
    "\n",
    "    # Iterate through Data Frame to Add Encoded Values to Corresponding Spots\n",
    "\n",
    "    for i in range(length):\n",
    "        onehot_crime_array[i] = crime_dict[incidents['CRIME CATEGORY DESCRIPTION'][i]]\n",
    "\n",
    "    for i in range(length):\n",
    "        onehot_geocode_array[i] = geocode_dict[incidents['GEO CODE'][i]] \n",
    "\n",
    "    # Add Columns to Data Frames\n",
    "\n",
    "    incidents['CRIME CATEGORY ARRAY'] = onehot_crime_array\n",
    "    incidents['GEO CODE ARRAY'] = onehot_geocode_array\n",
    "    \n",
    "    incidents = incidents.drop(columns=['CRIME CATEGORY DESCRIPTION', 'GEO CODE'])\n",
    "    return incidents\n",
    "# Get Results:\n",
    "\n",
    "# incidents.head()"
   ]
  },
  {
   "cell_type": "code",
   "execution_count": null,
   "id": "527a20fb-4b8a-437a-903e-40bbfdc8033f",
   "metadata": {},
   "outputs": [],
   "source": []
  }
 ],
 "metadata": {
  "kernelspec": {
   "display_name": "Python 3",
   "language": "python",
   "name": "python3"
  },
  "language_info": {
   "codemirror_mode": {
    "name": "ipython",
    "version": 3
   },
   "file_extension": ".py",
   "mimetype": "text/x-python",
   "name": "python",
   "nbconvert_exporter": "python",
   "pygments_lexer": "ipython3",
   "version": "3.8.8"
  }
 },
 "nbformat": 4,
 "nbformat_minor": 5
}
